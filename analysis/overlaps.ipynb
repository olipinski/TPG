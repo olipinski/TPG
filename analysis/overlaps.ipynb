{
 "cells": [
  {
   "cell_type": "code",
   "id": "initial_id",
   "metadata": {
    "collapsed": true
   },
   "source": [
    "from tpg.dataset import ProgressiveDataset\n",
    "from joblib import Parallel, delayed"
   ],
   "outputs": [],
   "execution_count": null
  },
  {
   "metadata": {},
   "cell_type": "code",
   "source": [
    "def test_dataset_overlap():\n",
    "    ds_train = ProgressiveDataset(\n",
    "        dataset_size=200000, num_points=60, num_distractors=4, repeat_chance=0\n",
    "    )\n",
    "    ds_train = set([tuple(dp[0]) for dp in ds_train])\n",
    "    ds_val = ProgressiveDataset(\n",
    "        dataset_size=200000, num_points=60, num_distractors=4, repeat_chance=0\n",
    "    )\n",
    "    ds_val = set([tuple(dp[0]) for dp in ds_val])\n",
    "    ds_test = ProgressiveDataset(\n",
    "        dataset_size=20000, num_points=60, num_distractors=4, repeat_chance=0\n",
    "    )\n",
    "    ds_test = set([tuple(dp[0]) for dp in ds_test])\n",
    "    train_val_int = len(ds_train.intersection(ds_val))\n",
    "    train_test_int = len(ds_train.intersection(ds_test))\n",
    "    return train_val_int, train_test_int"
   ],
   "id": "2f6ae5c06b0132b1",
   "outputs": [],
   "execution_count": null
  },
  {
   "metadata": {},
   "cell_type": "code",
   "source": [
    "results = Parallel(n_jobs=12, verbose=10)(\n",
    "    delayed(test_dataset_overlap)() for _ in range(1000)\n",
    ")\n",
    "\n",
    "train_val, train_test = 0, 0\n",
    "\n",
    "for res in results:\n",
    "    train_val += res[0]\n",
    "    train_test += res[1]\n",
    "\n",
    "train_val /= 1000\n",
    "train_test /= 1000\n",
    "\n",
    "print(f\"Overlaps: train/val {train_val},  train/test {train_test}\")"
   ],
   "id": "f5894322dd2eeaea",
   "outputs": [],
   "execution_count": null
  }
 ],
 "metadata": {
  "kernelspec": {
   "display_name": "Python 3",
   "language": "python",
   "name": "python3"
  },
  "language_info": {
   "codemirror_mode": {
    "name": "ipython",
    "version": 2
   },
   "file_extension": ".py",
   "mimetype": "text/x-python",
   "name": "python",
   "nbconvert_exporter": "python",
   "pygments_lexer": "ipython2",
   "version": "2.7.6"
  }
 },
 "nbformat": 4,
 "nbformat_minor": 5
}
